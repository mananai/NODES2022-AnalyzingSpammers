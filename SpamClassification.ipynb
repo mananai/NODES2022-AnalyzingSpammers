{
 "cells": [
  {
   "cell_type": "code",
   "execution_count": 1,
   "id": "290816c3-2b8f-46ed-b013-b9b6b9a07971",
   "metadata": {},
   "outputs": [],
   "source": [
    "# # For padas to excel file\n",
    "#!pip install openpyxl\n",
    "\n",
    "# # pip install required modules\n",
    "# # uncomment if running from colab\n",
    "# # see list of modules in `requirements` and `extras`\n",
    "# # in https://github.com/PyThaiNLP/pythainlp/blob/dev/setup.py\n",
    "\n",
    "#!pip install pythainlp\n",
    "#!pip install epitran\n",
    "#!pip install python-crfsuite\n",
    "#!pip install demoji\n",
    "\n",
    "#Currently, not using the following...\n",
    "#!pip install clean-text\n",
    "#!pip install wordcloud\n",
    "#!pip install emoji"
   ]
  },
  {
   "cell_type": "code",
   "execution_count": 2,
   "id": "96a2d6ac-197e-44f7-bc71-84878adeda43",
   "metadata": {},
   "outputs": [],
   "source": [
    "import pandas as pd\n",
    "import numpy as np\n",
    "import sklearn\n",
    "from sklearn.model_selection import train_test_split\n",
    "from sklearn.feature_extraction.text import CountVectorizer, TfidfTransformer"
   ]
  },
  {
   "cell_type": "markdown",
   "id": "da58385a-56a9-4931-bcb7-415ff6ed1914",
   "metadata": {},
   "source": [
    "# Training set"
   ]
  },
  {
   "cell_type": "code",
   "execution_count": 3,
   "id": "5512712b-4d50-44a7-b456-e03d025daaa2",
   "metadata": {},
   "outputs": [],
   "source": [
    "status_labeled_file = \"data/statuses2022102022_labeled.csv\"\n",
    "train_df= pd.read_csv(status_labeled_file)"
   ]
  },
  {
   "cell_type": "code",
   "execution_count": 4,
   "id": "b5f60197-2f0e-4391-88f4-00ff52c9aa3b",
   "metadata": {},
   "outputs": [
    {
     "data": {
      "text/plain": [
       "label\n",
       "0    9926\n",
       "1     357\n",
       "Name: label, dtype: int64"
      ]
     },
     "execution_count": 4,
     "metadata": {},
     "output_type": "execute_result"
    }
   ],
   "source": [
    "train_df.groupby(['label'])['label'].count()"
   ]
  },
  {
   "cell_type": "markdown",
   "id": "28eaf067-5d1a-485e-a585-5d88db1b5f65",
   "metadata": {},
   "source": [
    "# Sample spam tweets"
   ]
  },
  {
   "cell_type": "code",
   "execution_count": 5,
   "id": "176298ce-11cc-48d8-83cc-79ca9f45eaa7",
   "metadata": {},
   "outputs": [],
   "source": [
    "pd.set_option('display.max_colwidth', None)"
   ]
  },
  {
   "cell_type": "code",
   "execution_count": 6,
   "id": "c03f3a9a-6088-4133-973f-0c0339e994ef",
   "metadata": {},
   "outputs": [
    {
     "name": "stdout",
     "output_type": "stream",
     "text": [
      "               🎀รับพนักงาน หลายอัตราไม่จำกัดอายุจ่ายรายวัน🎀\\n✅ แค่มีเน็ตและมือถือก็ทำได้\\n✅ ถูกกฏหมาย ไม่ใช่การพนัน\\n✅ ไม่จำกัดอายุ งานง่ายรายได้ดี\\n#โตโน่ภาคิน #ออฟกัน #peatwasu #ใส่นัวแฟมิลี่ #หุกุ #ENGFA_NationalCostume #บาสเด็กอ้วนที่แท้จริง #LAZ1_1stFansign #KPWorldTourManila https://t.co/4YooeKf4IM\n",
      "                                                    📢 ใครที่กำลังหาค่าเทอม ค่าขนม  ค่าใช้จ่าย \\n👉เชิญทางนี้ค่ะ งานถูกกฎหมาย ไม่มีค่าสมัคร/สอนงานฟรี\\n-นกเรียน/นักศึกษา/ว่างงาน🌈\\n#หางานออนไลน์ #หางานเสริมทําที่บ้าน #งานพาร์ทไทม์ #LISAXBVLGARI #peatwasu #TXTinBKK #SUHOxMEW #BLACKPINK https://t.co/oUTe1IfHB4\n",
      "สร้างรายได้ผ่านโทรศัพท์📲\\nสวรรค์ของทุกคนที่อยู่ว่างเริ่มขึ้นที่นี่\\nใช้เวลาแค่ไม่กี่นาที ง่ายๆได้เงินจริง\\nระบบทันสมัยที่สุด ที่มีในประเทศไทย\\nรายได้เฉลี่ยวันล่ะ 300-1500 บาท\\n✔️งานง่ายได้เงินจริง✅\\n#정해인 #JungHaeIn #HAESOO #HAEIN #BLACKPINKWorldTour2022 #LISA #โตโน่ภาคิน #SUHOxMEW https://t.co/JsreZZ9I8s\n",
      "                                                                                                                                               สอบถามเพิ่มเติม เดมมาเลยงับ👇\\n\\n#โตโน่ภาคิน #peatwasu #ใส่นัวแฟมิลี่ #นิวกัน #งานออนไลน์ง่ายๆ \\n#KPWorldTourManila  #บาสเด็กอ้วนที่แท้จริง https://t.co/hSkzchldVo\n",
      "               🙏สวัสดีค่ะใครที่อยู่บ้านแล้วอยากหารายได้พิเศษ✨\\nยิ่งขยันมากยิ่งได้มากค่ะ💵 อย่าให้เวลาสูญเปล่าไม่เสียเวลาแน่นอนไม่ทำให้ผิดหวังแน่นอนค่ะ😉สนใจDmมาเลยค่ะ📲🥰 #หาเงินออนไลน์ #หางานออนไลน์ #ENGFA_ชุดประจำชาติ #ThaiJapanIconicMusicFest2022 #SUHOxMEW #KPWorldTourManila #ยวปตล https://t.co/fDv1mLJVL2\n"
     ]
    }
   ],
   "source": [
    "print(train_df[train_df['label']==1]['text'].tail(5).to_string(index=False))"
   ]
  },
  {
   "cell_type": "markdown",
   "id": "8e4bfbf7-794b-40e4-bded-07b4e9ee508a",
   "metadata": {},
   "source": [
    "# Thai NLP"
   ]
  },
  {
   "cell_type": "code",
   "execution_count": 7,
   "id": "c919981c-a01c-4e0d-aac4-627d34db4bdc",
   "metadata": {},
   "outputs": [
    {
     "name": "stdout",
     "output_type": "stream",
     "text": [
      "3.1.0\n",
      "stop_words len= 1030\n"
     ]
    }
   ],
   "source": [
    "import pythainlp\n",
    "from pythainlp import word_tokenize\n",
    "from pythainlp import sent_tokenize\n",
    "from pythainlp.util import normalize\n",
    "from pythainlp.corpus import thai_stopwords\n",
    "import re\n",
    "import string\n",
    "#from cleantext import clean\n",
    "import demoji\n",
    "\n",
    "print(pythainlp.__version__)\n",
    "stop_words= thai_stopwords()\n",
    "print('stop_words len=', len(stop_words))"
   ]
  },
  {
   "cell_type": "code",
   "execution_count": 8,
   "id": "bae2f547-a7f2-4d96-953c-a94b854ab34b",
   "metadata": {},
   "outputs": [],
   "source": [
    "#print(stop_words)"
   ]
  },
  {
   "cell_type": "markdown",
   "id": "50aa7f14-3908-4673-80ea-ecea7601b9ba",
   "metadata": {},
   "source": [
    "# Extracting top hashtags"
   ]
  },
  {
   "cell_type": "code",
   "execution_count": 9,
   "id": "b451a627-eb40-4db5-b860-039ebb1cf34d",
   "metadata": {},
   "outputs": [],
   "source": [
    "from collections import Counter\n",
    "\n",
    "def get_top_hashtags(df, size):\n",
    "    counter = Counter()\n",
    "\n",
    "    for i in range(len(df)):\n",
    "        text = df.values[i][0]\n",
    "        regex = \"(#\\S+)\"\n",
    "        hashtags = re.findall(regex, text)\n",
    "        for hashtag in hashtags:\n",
    "            counter[hashtag] += 1\n",
    "            \n",
    "    top = sorted(counter, key=counter.get, reverse=True)\n",
    "    return top[:size]"
   ]
  },
  {
   "cell_type": "code",
   "execution_count": 10,
   "id": "043a3aa7-b6ae-4141-84c3-d4553ef974f8",
   "metadata": {},
   "outputs": [],
   "source": [
    "train_text_df = pd.DataFrame(train_df['text'])\n",
    "train_label_df = pd.DataFrame(train_df['label'])"
   ]
  },
  {
   "cell_type": "code",
   "execution_count": 11,
   "id": "6b79ae13-6154-4827-8905-5d269386ae1c",
   "metadata": {},
   "outputs": [],
   "source": [
    "train_top_hashtags = get_top_hashtags(train_text_df, 100)\n",
    "#print(train_top_hashtags)\n",
    "top_hashtags= train_top_hashtags"
   ]
  },
  {
   "cell_type": "markdown",
   "id": "0a39d74b-6bfe-44a2-b999-0a4df846c2ea",
   "metadata": {},
   "source": [
    "# Thai tokenizer\n",
    "Converting text to word list"
   ]
  },
  {
   "cell_type": "code",
   "execution_count": 12,
   "id": "5f6104ef-df46-4571-8e68-2e1543f70dc0",
   "metadata": {},
   "outputs": [],
   "source": [
    "# https://stackoverflow.com/questions/33404752/removing-emojis-from-a-string-in-python\n",
    "def remove_emojis(text):\n",
    "    dem = demoji.findall(text)\n",
    "    for item in dem.keys():\n",
    "        text = text.replace(item, '')\n",
    "    return text\n",
    "\n",
    "def remove_urls(text):\n",
    "    return re.sub(r'https?:\\/\\/\\S+', '', text, flags=re.MULTILINE)\n",
    "\n",
    "def remove_hashtags(text):\n",
    "    return re.sub(r'#\\S+', '', text, flags=re.MULTILINE)\n",
    "\n",
    "def remove_top_hashtags(text, top_hashtags):\n",
    "    for hashtag in top_hashtags:\n",
    "         text =re.sub(hashtag, '', text, flags=re.MULTILINE)\n",
    "    return text\n",
    "\n",
    "def remove_rt(text):\n",
    "    return re.sub(r'RT @\\S+', '', text, flags=re.MULTILINE)\n",
    "\n",
    "def remove_mentions(text):\n",
    "    return re.sub(r'@\\S+', '', text, flags=re.MULTILINE)\n",
    "\n",
    "def remove_newlines(text):\n",
    "    return re.sub(r'\\n', ' ', text, flags=re.MULTILINE)\n",
    "\n",
    "#from string import digits\n",
    "remove_digits = str.maketrans('', '', string.digits)\n",
    "remove_punctuations = str.maketrans('', '', string.punctuation)\n",
    "\n",
    "#top_hashtags = []\n",
    "## Remove urls, hashtags, mentions and normalize\n",
    "def preprocess_text(text):\n",
    "    #text = deEmojify(text)\n",
    "    #text = remove_emojies(text)\n",
    "    text = remove_emojis(text)\n",
    "    text = remove_urls(text)\n",
    "    if len(top_hashtags) > 0:\n",
    "        text = remove_top_hashtags(text, top_hashtags)\n",
    "    else:\n",
    "        text = remove_hashtags(text)\n",
    "        \n",
    "    text = remove_rt(text)\n",
    "    text = remove_mentions(text)\n",
    "    text = remove_newlines(text)\n",
    "    text = text.translate(remove_punctuations)\n",
    "    text = text.translate(remove_digits)\n",
    "    text = normalize(text)\n",
    "    return text\n",
    "\n",
    "def th_tokenizer0(text):\n",
    "    text = preprocess_text(text)\n",
    "    return word_tokenize(text, keep_whitespace=False)\n",
    "\n",
    "def th_tokenizer(text):\n",
    "    text = preprocess_text(text)\n",
    "    words = word_tokenize(text, keep_whitespace=False)\n",
    "    tokenized_words = []\n",
    "    for word in words:\n",
    "        if not word in stop_words:\n",
    "            tokenized_words.append(word)\n",
    "    return tokenized_words\n"
   ]
  },
  {
   "cell_type": "markdown",
   "id": "f8356f77-aca9-4cf0-b3a7-395846b9f324",
   "metadata": {},
   "source": [
    "# TFID Vectorizor\n",
    "Converting each text(tweet) to features vector"
   ]
  },
  {
   "cell_type": "code",
   "execution_count": 13,
   "id": "cf6ed1b9-6bd2-4529-9d12-b106ab474f61",
   "metadata": {},
   "outputs": [
    {
     "name": "stderr",
     "output_type": "stream",
     "text": [
      "/Users/mananai/opt/miniconda3/lib/python3.9/site-packages/sklearn/feature_extraction/text.py:524: UserWarning: The parameter 'token_pattern' will not be used since 'tokenizer' is not None'\n",
      "  warnings.warn(\n"
     ]
    },
    {
     "data": {
      "text/plain": [
       "(10283, 6456)"
      ]
     },
     "execution_count": 13,
     "metadata": {},
     "output_type": "execute_result"
    }
   ],
   "source": [
    "from sklearn.feature_extraction.text import TfidfVectorizer\n",
    "\n",
    "stop_words = thai_stopwords()\n",
    "#vectorizer = TfidfVectorizer(tokenizer=th_word_tokenize, stop_words=stop_words, min_df=2)\n",
    "vectorizer = TfidfVectorizer(tokenizer=th_tokenizer, min_df=2)\n",
    "vectorizer.fit(train_text_df['text'])\n",
    "train_features = vectorizer.transform(train_text_df['text'])\n",
    "train_features.shape"
   ]
  },
  {
   "cell_type": "markdown",
   "id": "0dbaddf4-3631-4af1-b7b8-7195bf9ffaa5",
   "metadata": {},
   "source": [
    "# Bayes Classifier"
   ]
  },
  {
   "cell_type": "code",
   "execution_count": 56,
   "id": "8630b4a9-9f9f-4438-853f-fe584ae53e1c",
   "metadata": {},
   "outputs": [],
   "source": [
    "#print(vectorizer.vocabulary_)"
   ]
  },
  {
   "cell_type": "code",
   "execution_count": 14,
   "id": "f597de60-b4ca-4b33-a559-c4625da74380",
   "metadata": {},
   "outputs": [],
   "source": [
    "from sklearn.naive_bayes import MultinomialNB\n",
    "from sklearn.metrics import accuracy_score\n",
    "from sklearn.metrics import precision_score\n",
    "from sklearn.metrics import recall_score\n",
    "from sklearn.metrics import roc_auc_score"
   ]
  },
  {
   "cell_type": "code",
   "execution_count": 15,
   "id": "919c1f9d-d672-446f-ad11-269507d60f96",
   "metadata": {},
   "outputs": [
    {
     "name": "stdout",
     "output_type": "stream",
     "text": [
      "(8740, 6456) (1543, 6456)\n"
     ]
    }
   ],
   "source": [
    "#split the dataset into train and test set\n",
    "X_train, X_test, y_train, y_test = train_test_split(train_features, train_label_df['label'], test_size=0.15)\n",
    "print(X_train.shape, X_test.shape)"
   ]
  },
  {
   "cell_type": "code",
   "execution_count": 16,
   "id": "79341674-c445-4c54-a5f1-3f1e18c4591f",
   "metadata": {},
   "outputs": [
    {
     "name": "stdout",
     "output_type": "stream",
     "text": [
      "accuracy = 0.9948152948801037\n",
      "precision = 0.9016393442622951\n",
      "recall = 0.9649122807017544\n",
      "roc_auc = 0.9804372978205945\n"
     ]
    }
   ],
   "source": [
    "bayes = MultinomialNB(alpha=0.1)\n",
    "bayes.fit(X_train, y_train)\n",
    "pred = bayes.predict(X_test)\n",
    "print(\"accuracy =\", accuracy_score(y_test , pred))\n",
    "print(\"precision =\", precision_score(y_test , pred))\n",
    "print(\"recall =\", recall_score(y_test , pred))\n",
    "print(\"roc_auc =\", roc_auc_score(y_test, pred))"
   ]
  },
  {
   "cell_type": "markdown",
   "id": "d5caee4a-710e-44f7-ae01-86e1510919d4",
   "metadata": {},
   "source": [
    "# Real data set\n",
    "Predicting whether each tweet is a spam or not"
   ]
  },
  {
   "cell_type": "code",
   "execution_count": 17,
   "id": "cbc37f43-364d-4abe-814a-3216e95f67b6",
   "metadata": {},
   "outputs": [],
   "source": [
    "#Production file\n",
    "prd_file = \"data/statuses20221027.csv\"\n",
    "prd_df =  pd.read_csv(prd_file)\n",
    "prd_text_df =  prd_df.loc[prd_df['is_retweet']==0][['text', 'id']]"
   ]
  },
  {
   "cell_type": "code",
   "execution_count": 19,
   "id": "b0ae1e90-01bf-4d87-89a1-218bd0dae869",
   "metadata": {},
   "outputs": [],
   "source": [
    "prd_top_hashtags = get_top_hashtags(prd_text_df, 100)\n",
    "#print(prd_top_hashtags)\n",
    "top_hashtags = prd_top_hashtags"
   ]
  },
  {
   "cell_type": "code",
   "execution_count": 20,
   "id": "d86f72bd-59c4-4635-b727-85389d6c70ae",
   "metadata": {},
   "outputs": [],
   "source": [
    "prd_features = vectorizer.transform(prd_text_df['text'])\n",
    "prd_pred = bayes.predict(prd_features)"
   ]
  },
  {
   "cell_type": "markdown",
   "id": "13913a36-2b05-4fbe-b3d9-b2e56f7aebba",
   "metadata": {},
   "source": [
    "# Save the prediction result to the CSV file"
   ]
  },
  {
   "cell_type": "code",
   "execution_count": 21,
   "id": "088ea102-04ed-4fa1-b537-790348501a7d",
   "metadata": {},
   "outputs": [],
   "source": [
    "#Add prediction column\n",
    "prd_text_df['label']=prd_pred.tolist()\n",
    "prd_label_df=prd_text_df[['id', 'label']]\n",
    "#Join the production dataframe with the prediction\n",
    "prd_result_df = pd.merge(prd_df, prd_label_df, how='left', on = 'id')\n",
    "prd_result_df['label']=prd_result_df['label'].fillna(0)\n",
    "#Convert the label to int\n",
    "prd_result_df['label']=prd_result_df['label'].astype(int)\n",
    "labeled_file='data/statuses20221027_labeled.csv'\n",
    "prd_result_df.to_csv(labeled_file, index=False)"
   ]
  },
  {
   "cell_type": "code",
   "execution_count": 22,
   "id": "523a6c30-ee1f-4edc-9135-70a45d7b49a9",
   "metadata": {},
   "outputs": [
    {
     "data": {
      "text/plain": [
       "label\n",
       "0    57447\n",
       "1      248\n",
       "Name: label, dtype: int64"
      ]
     },
     "execution_count": 22,
     "metadata": {},
     "output_type": "execute_result"
    }
   ],
   "source": [
    "prd_result_df.groupby(['label'])['label'].count()"
   ]
  },
  {
   "cell_type": "code",
   "execution_count": null,
   "id": "daf059f9-165b-4709-830f-6550d93fc47f",
   "metadata": {},
   "outputs": [],
   "source": []
  },
  {
   "cell_type": "markdown",
   "id": "4fd130e2-2012-4798-872c-8faa016e5181",
   "metadata": {},
   "source": [
    "# Hyperparameter tuning"
   ]
  },
  {
   "cell_type": "code",
   "execution_count": 23,
   "id": "9f41a504-a75c-4dbf-bcc8-7438afee3579",
   "metadata": {},
   "outputs": [],
   "source": [
    "def test_bayes(alpha, features, labels):\n",
    "    X_train, X_test, y_train, y_test = train_test_split(features, labels, test_size=0.25)\n",
    "    bayes = MultinomialNB(alpha=alpha)\n",
    "    bayes.fit(X_train, y_train)\n",
    "    pred = bayes.predict(X_test)\n",
    "    return [precision_score(y_test , pred), recall_score(y_test, pred), roc_auc_score(y_test, pred)]"
   ]
  },
  {
   "cell_type": "code",
   "execution_count": 24,
   "id": "518f8b15-1980-4b71-9326-3f6964e76eed",
   "metadata": {},
   "outputs": [
    {
     "name": "stdout",
     "output_type": "stream",
     "text": [
      "precision= 0.8969072164948454 ,recall= 0.9354838709677419 , roc_auc= 0.9657241792288266\n"
     ]
    }
   ],
   "source": [
    "[precision, recall, roc_auc]=test_bayes(0.1, train_features, train_label_df['label'])\n",
    "print(\"precision=\", precision, \",recall=\", recall, \", roc_auc=\", roc_auc )"
   ]
  },
  {
   "cell_type": "code",
   "execution_count": 25,
   "id": "cc66392f-474a-482e-8fe7-5fbccfbe455e",
   "metadata": {},
   "outputs": [],
   "source": [
    "import matplotlib.pyplot as plt"
   ]
  },
  {
   "cell_type": "code",
   "execution_count": 26,
   "id": "a6d9d3fc-470d-49de-ad7f-16c8f53a4740",
   "metadata": {},
   "outputs": [],
   "source": [
    "def plot_bayes_scores(alphas, features, labels):\n",
    "    times = 3\n",
    "    precisions = []\n",
    "    recalls = []\n",
    "    roc_aucs = []\n",
    "    for alpha in alphas:\n",
    "        \n",
    "        sum_precisions = 0\n",
    "        sum_recalls = 0\n",
    "        sum_roc_aucs = 0\n",
    "        for i in range(times):\n",
    "            [precision, recall, roc_auc] = test_bayes(alpha, features, labels)\n",
    "            sum_precisions += precision\n",
    "            sum_recalls += recall\n",
    "            sum_roc_aucs += roc_auc\n",
    "        \n",
    "        avg_precision = sum_precisions/times\n",
    "        avg_recall = sum_recalls/times\n",
    "        avg_roc_auc = sum_roc_aucs/times\n",
    "            \n",
    "        precisions.append(avg_precision)\n",
    "        recalls.append(avg_recall)\n",
    "        roc_aucs.append(avg_roc_auc)\n",
    "        \n",
    "    plt.plot(alphas, precisions, label=\"precision\")\n",
    "    plt.plot(alphas, recalls, label=\"recall\")\n",
    "    plt.plot(alphas, roc_aucs, label=\"roc_auc\")\n",
    "    plt.legend()\n",
    "    plt.show()"
   ]
  },
  {
   "cell_type": "code",
   "execution_count": 27,
   "id": "0bba6bb3-80fb-4e0e-b525-183f9aa594fd",
   "metadata": {},
   "outputs": [
    {
     "data": {
      "image/png": "[encoded data removed]",
      "text/plain": [
       "<Figure size 640x480 with 1 Axes>"
      ]
     },
     "metadata": {},
     "output_type": "display_data"
    }
   ],
   "source": [
    "alphas = np.linspace(0.05,1,20)\n",
    "alphas = np.insert(alphas, 0, 1e-3)\n",
    "#print(params)\n",
    "plot_bayes_scores(alphas, train_features, train_label_df['label'])"
   ]
  },
  {
   "cell_type": "code",
   "execution_count": 110,
   "id": "7aaba78e-d083-4e4f-8434-b6d7a02fae1a",
   "metadata": {},
   "outputs": [
    {
     "data": {
      "text/plain": [
       "238"
      ]
     },
     "execution_count": 110,
     "metadata": {},
     "output_type": "execute_result"
    }
   ],
   "source": [
    "prd_pred.sum()"
   ]
  },
  {
   "cell_type": "code",
   "execution_count": 29,
   "id": "a0fdfffe-cbd8-4000-8e58-9f14b15c889e",
   "metadata": {},
   "outputs": [],
   "source": [
    "#prd_result_df.dtypes"
   ]
  },
  {
   "cell_type": "code",
   "execution_count": 49,
   "id": "d7ebae58-7e49-40c6-bf18-7e6dc2023c18",
   "metadata": {},
   "outputs": [
    {
     "data": {
      "text/plain": [
       "(245,)"
      ]
     },
     "execution_count": 49,
     "metadata": {},
     "output_type": "execute_result"
    }
   ],
   "source": [
    "prd_result_df[prd_result_df['label']==1]['text'].shape"
   ]
  },
  {
   "cell_type": "code",
   "execution_count": 28,
   "id": "310bb20e-6f2d-4848-8826-efc62771f0cd",
   "metadata": {},
   "outputs": [],
   "source": [
    "pd.set_option('display.max_colwidth', None)\n",
    "pd.set_option('display.max_rows', None)"
   ]
  },
  {
   "cell_type": "code",
   "execution_count": 28,
   "id": "2f7de64a-f18b-49fa-9531-c1c78066a3a4",
   "metadata": {},
   "outputs": [],
   "source": [
    "#prd_result_df[prd_result_df['label']==1]['text']"
   ]
  },
  {
   "cell_type": "code",
   "execution_count": null,
   "id": "284d1202-3874-402c-9ae5-2e89bc7a5e9c",
   "metadata": {},
   "outputs": [],
   "source": []
  }
 ],
 "metadata": {
  "kernelspec": {
   "display_name": "Python 3 (ipykernel)",
   "language": "python",
   "name": "python3"
  },
  "language_info": {
   "codemirror_mode": {
    "name": "ipython",
    "version": 3
   },
   "file_extension": ".py",
   "mimetype": "text/x-python",
   "name": "python",
   "nbconvert_exporter": "python",
   "pygments_lexer": "ipython3",
   "version": "3.9.12"
  }
 },
 "nbformat": 4,
 "nbformat_minor": 5
}
