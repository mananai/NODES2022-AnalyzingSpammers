{
 "cells": [
  {
   "cell_type": "code",
   "execution_count": 1,
   "id": "9a55c310-bf1f-4036-a68e-72a5769b0114",
   "metadata": {},
   "outputs": [],
   "source": [
    "from neo4j import GraphDatabase\n",
    "import pandas as pd\n",
    "from tabulate import tabulate\n",
    "import matplotlib\n",
    "#matplotlib.use('TkAgg')\n",
    "import matplotlib.pyplot as plt"
   ]
  },
  {
   "cell_type": "code",
   "execution_count": 2,
   "id": "a0fe4dbe-d66a-4974-8414-f4811e00c4b7",
   "metadata": {},
   "outputs": [],
   "source": [
    "user=\"neo4j\"\n",
    "password=\"neo4j123\""
   ]
  },
  {
   "cell_type": "code",
   "execution_count": 3,
   "id": "06a973d4-778c-47db-90e5-3e1021c4a8be",
   "metadata": {},
   "outputs": [],
   "source": [
    "driver = GraphDatabase.driver(\"bolt://localhost\", auth=(user, password))"
   ]
  },
  {
   "cell_type": "code",
   "execution_count": 4,
   "id": "d629d64a-59ad-47e7-8f38-ab4f65c744ba",
   "metadata": {},
   "outputs": [],
   "source": [
    "def print_result_summary(summary):\n",
    "    if summary.counters.nodes_created > 0 :\n",
    "        print(f\"Created {summary.counters.nodes_created:,d} nodes\")\n",
    "    if summary.counters.nodes_deleted > 0 :\n",
    "        print(f\"Deleted {summary.counters.nodes_deleted:,d} nodes\")\n",
    "    if summary.counters.relationships_created > 0 :\n",
    "        print(f\"Created {summary.counters.relationships_created:,d} relationships\")\n",
    "    if summary.counters.relationships_deleted > 0 :\n",
    "        print(f\"Deleted {summary.counters.relationships_deleted:,d} relationships\")\n",
    "    if summary.counters.properties_set > 0 :\n",
    "        print(f\"Set {summary.counters.properties_set:,d} properties\")\n",
    "    if summary.counters.labels_added > 0 :\n",
    "        print(f\"Added {summary.counters.labels_added:,d} labels\")\n",
    "    if summary.counters.labels_removed > 0 :\n",
    "        print(f\"Removed {summary.counters.labels_removed:,d} labels\")\n",
    "    if summary.counters.constraints_added > 0 :\n",
    "        print(f\"Added {summary.counters.constraints_added:,d} constraints\")\n",
    "    if summary.counters.constraints_removed > 0 :\n",
    "        print(f\"Removed {summary.counters.constraints_removed:,d} constraints\")\n"
   ]
  },
  {
   "cell_type": "markdown",
   "id": "1144242e-9845-4f48-b563-371f98a300ad",
   "metadata": {},
   "source": [
    "# Add constraints"
   ]
  },
  {
   "cell_type": "code",
   "execution_count": 5,
   "id": "2492ae4a-913c-4e22-b1dc-889c9e5f2474",
   "metadata": {},
   "outputs": [
    {
     "name": "stdout",
     "output_type": "stream",
     "text": [
      "Added 1 constraints\n",
      "Added 1 constraints\n"
     ]
    }
   ],
   "source": [
    "addConstraintsQ1 = \"CREATE CONSTRAINT User_constraint FOR (user:User) REQUIRE user.id IS UNIQUE;\"\n",
    "addConstraintsQ2 = \"CREATE CONSTRAINT Status_constraint FOR (status:Status) REQUIRE status.id IS UNIQUE;\"\n",
    "\n",
    "queries = [addConstraintsQ1, addConstraintsQ2]\n",
    "\n",
    "with driver.session() as session:\n",
    "    for query in queries:    \n",
    "        result = session.run(query)\n",
    "        summary = result.consume()\n",
    "        print_result_summary(summary)"
   ]
  },
  {
   "cell_type": "markdown",
   "id": "e17c3f89-07d7-4d24-8f53-afacb71072b8",
   "metadata": {},
   "source": [
    "# List constraints"
   ]
  },
  {
   "cell_type": "code",
   "execution_count": 6,
   "id": "aed45a68-d7c6-43fc-b3d9-ca41a83e4d06",
   "metadata": {},
   "outputs": [
    {
     "name": "stdout",
     "output_type": "stream",
     "text": [
      "                name                                        description  \\\n",
      "0  Status_constraint  CONSTRAINT ON ( status:Status ) ASSERT (status...   \n",
      "1    User_constraint  CONSTRAINT ON ( user:User ) ASSERT (user.id) I...   \n",
      "\n",
      "                                             details  \n",
      "0  Constraint( id=6, name='Status_constraint', ty...  \n",
      "1  Constraint( id=4, name='User_constraint', type...  \n"
     ]
    }
   ],
   "source": [
    "query = \"CALL db.constraints;\"\n",
    "with driver.session() as session:\n",
    "    result = session.run(query)\n",
    "    df = pd.DataFrame([dict(record) for record in result])\n",
    "    print(df)"
   ]
  },
  {
   "cell_type": "markdown",
   "id": "dc0ef2e1-b34a-4d5e-81cd-cc7ce22fafae",
   "metadata": {},
   "source": [
    "# Import user nodes"
   ]
  },
  {
   "cell_type": "code",
   "execution_count": 7,
   "id": "b2db8c14-434d-4104-93d2-bff8410b0dda",
   "metadata": {},
   "outputs": [
    {
     "name": "stdout",
     "output_type": "stream",
     "text": [
      "Created 1,511,659 nodes\n",
      "Set 12,093,272 properties\n",
      "Added 1,511,659 labels\n"
     ]
    }
   ],
   "source": [
    "importUserQ = \"\"\"\n",
    "USING PERIODIC COMMIT LOAD CSV WITH HEADERS FROM \"file:///users20221027.csv\" AS row\n",
    "MERGE (u:User {id:toInteger(row.id)})\n",
    "SET u.screen_name = row.screen_name,\n",
    "u.name = row.name,\n",
    "u.friends_count = toInteger(row.friends_count),\n",
    "u.followers_count = toInteger(row.followers_count),\n",
    "u.statuses_count = toInteger(row.statuses_count),\n",
    "u.favorites_count = toInteger(row.favorites_count),\n",
    "u.description = row.description;\n",
    "\"\"\"\n",
    "with driver.session() as session:\n",
    "    result = session.run(importUserQ)\n",
    "    summary = result.consume()\n",
    "    print_result_summary(summary)"
   ]
  },
  {
   "cell_type": "code",
   "execution_count": 8,
   "id": "76920ad8-24cc-4294-bfce-ce9ecb5146d9",
   "metadata": {},
   "outputs": [
    {
     "name": "stdout",
     "output_type": "stream",
     "text": [
      "   User_count\n",
      "0     1511659\n"
     ]
    }
   ],
   "source": [
    "query = \"\"\"\n",
    "MATCH (u:User) \n",
    "RETURN COUNT(u) AS User_count;\n",
    "\"\"\"\n",
    "with driver.session() as session:\n",
    "    result = session.run(query)\n",
    "    df = pd.DataFrame([dict(record) for record in result])\n",
    "    print(df)"
   ]
  },
  {
   "cell_type": "markdown",
   "id": "d389c315-9c43-4048-b7a7-4c9daf880115",
   "metadata": {},
   "source": [
    "# Import user_friend relationships\n",
    "This may take a long long time to run (depending on relationship count)"
   ]
  },
  {
   "cell_type": "code",
   "execution_count": 9,
   "id": "b1d4ab67-95dc-4003-b9ed-95042546d952",
   "metadata": {},
   "outputs": [
    {
     "name": "stdout",
     "output_type": "stream",
     "text": [
      "Created 9,639,768 relationships\n"
     ]
    }
   ],
   "source": [
    "importUserFriendQ = \"\"\"\n",
    "USING PERIODIC COMMIT LOAD CSV WITH HEADERS FROM 'file:///userFriends20221027.csv' as row\n",
    "MATCH (user:User{id: toInteger(row.user_id)})\n",
    "MATCH (friend:User{id: toInteger(row.friend_id)})\n",
    "MERGE (user)-[:FOLLOWS]->(friend);\n",
    "\"\"\"\n",
    "with driver.session() as session:\n",
    "    result = session.run(importUserFriendQ)\n",
    "    summary = result.consume()\n",
    "    print_result_summary(summary)"
   ]
  },
  {
   "cell_type": "markdown",
   "id": "ff54c992-2ff3-43b3-8507-7da6bc4cce06",
   "metadata": {},
   "source": [
    "# Import status nodes"
   ]
  },
  {
   "cell_type": "code",
   "execution_count": 10,
   "id": "76bd8d37-840a-4376-beca-dc0c74663738",
   "metadata": {},
   "outputs": [
    {
     "name": "stdout",
     "output_type": "stream",
     "text": [
      "Created 57,695 nodes\n",
      "Set 634,645 properties\n",
      "Added 57,695 labels\n"
     ]
    }
   ],
   "source": [
    "importStatusQ = \"\"\"\n",
    "USING PERIODIC COMMIT LOAD CSV WITH HEADERS FROM \"file:///statuses20221027_labeled.csv\" AS row\n",
    "MERGE (s:Status {id:toInteger(row.id)})\n",
    "SET s.user_id = toInteger(row.user_id),\n",
    "s.is_retweet = toInteger(row.is_retweet),\n",
    "s.retweeted_id = toInteger(row.retweeted_id),\n",
    "s.is_retweeted = toInteger(row.is_retweeted),\n",
    "s.retweet_count = toInteger(row.retweet_count),\n",
    "s.favourite_count = toInteger(row.favourite_count),\n",
    "s.quoted_id = toInteger(row.quoted_id),\n",
    "s.hashtag_count = toInteger(row.hashtag_count),\n",
    "s.text = row.text,\n",
    "s.is_spam = toInteger(row.label);\n",
    "\"\"\"\n",
    "with driver.session() as session:\n",
    "    result = session.run(importStatusQ)\n",
    "    summary = result.consume()\n",
    "    print_result_summary(summary)"
   ]
  },
  {
   "cell_type": "code",
   "execution_count": 11,
   "id": "daa94469-3ac7-4726-b137-18f9adb52c0f",
   "metadata": {},
   "outputs": [
    {
     "name": "stdout",
     "output_type": "stream",
     "text": [
      "   Status_count\n",
      "0         57695\n"
     ]
    }
   ],
   "source": [
    "query = \"\"\"\n",
    "MATCH (s:Status) \n",
    "RETURN COUNT(s) AS Status_count;\n",
    "\"\"\"\n",
    "with driver.session() as session:\n",
    "    result = session.run(query)\n",
    "    df = pd.DataFrame([dict(record) for record in result])\n",
    "    print(df)"
   ]
  },
  {
   "cell_type": "markdown",
   "id": "b658586d-3f97-45a3-99e6-c2897abdefb1",
   "metadata": {},
   "source": [
    "# Add RT relationships"
   ]
  },
  {
   "cell_type": "code",
   "execution_count": 12,
   "id": "5a12d740-2f77-49a7-92e5-49914586bb73",
   "metadata": {},
   "outputs": [
    {
     "name": "stdout",
     "output_type": "stream",
     "text": [
      "Created 49,246 relationships\n"
     ]
    }
   ],
   "source": [
    "query = \"\"\"\n",
    "MATCH (rt:Status)\n",
    "WHERE rt.is_retweet = 1\n",
    "MATCH (t:Status)\n",
    "WHERE t.is_retweet = 0 AND rt.retweeted_id=t.id\n",
    "MERGE (rt)-[:RT]->(t);\n",
    "\"\"\"\n",
    "with driver.session() as session:\n",
    "    result = session.run(query)\n",
    "    summary = result.consume()\n",
    "    print_result_summary(summary)"
   ]
  },
  {
   "cell_type": "markdown",
   "id": "a26d2d43-1d11-4c0c-822d-be882401bc84",
   "metadata": {},
   "source": [
    "# Add TWEETS relationships"
   ]
  },
  {
   "cell_type": "code",
   "execution_count": 13,
   "id": "f6f0a533-fd33-425e-af6b-8541783d86dc",
   "metadata": {},
   "outputs": [
    {
     "name": "stdout",
     "output_type": "stream",
     "text": [
      "Created 57,218 relationships\n"
     ]
    }
   ],
   "source": [
    "query = \"\"\"\n",
    "MATCH (t:Status)\n",
    "MATCH (u:User)\n",
    "WHERE t.user_id = u.id\n",
    "MERGE (u)-[:TWEETS]->(t);\n",
    "\"\"\"\n",
    "with driver.session() as session:\n",
    "    result = session.run(query)\n",
    "    summary = result.consume()\n",
    "    print_result_summary(summary)"
   ]
  },
  {
   "cell_type": "markdown",
   "id": "f38e9f86-3b7d-4e95-9c0f-ef512eb93502",
   "metadata": {},
   "source": [
    "# Spam label of a tweet"
   ]
  },
  {
   "cell_type": "code",
   "execution_count": 14,
   "id": "af79b6f8-7790-4645-ac55-702353677e80",
   "metadata": {},
   "outputs": [
    {
     "name": "stdout",
     "output_type": "stream",
     "text": [
      "Added 248 labels\n"
     ]
    }
   ],
   "source": [
    "query = \"\"\"\n",
    "MATCH (s:Status)\n",
    "WHERE s.is_spam=1\n",
    "SET s:Spam\n",
    "\"\"\"\n",
    "with driver.session() as session:\n",
    "    result = session.run(query)\n",
    "    summary = result.consume()\n",
    "    print_result_summary(summary)"
   ]
  },
  {
   "cell_type": "markdown",
   "id": "cbaafa4e-9966-4b45-957e-73db8b2cb14b",
   "metadata": {},
   "source": [
    "# Retweet of a spam is also a spam"
   ]
  },
  {
   "cell_type": "code",
   "execution_count": 15,
   "id": "89b7f2db-127a-44af-9600-d593482c79a2",
   "metadata": {},
   "outputs": [
    {
     "name": "stdout",
     "output_type": "stream",
     "text": [
      "Added 1,419 labels\n"
     ]
    }
   ],
   "source": [
    "query = \"\"\"\n",
    "MATCH (s:Status)-[:RT]->(:Spam)\n",
    "SET s:Spam\n",
    "\"\"\"\n",
    "with driver.session() as session:\n",
    "    result = session.run(query)\n",
    "    summary = result.consume()\n",
    "    print_result_summary(summary)"
   ]
  },
  {
   "cell_type": "code",
   "execution_count": 16,
   "id": "912c1a1b-a37d-4893-a42a-8442a84d17d5",
   "metadata": {},
   "outputs": [
    {
     "name": "stdout",
     "output_type": "stream",
     "text": [
      "   Spam_count\n",
      "0        1667\n"
     ]
    }
   ],
   "source": [
    "query = \"\"\"\n",
    "MATCH (s:Spam)\n",
    "RETURN COUNT(s) AS Spam_count\n",
    "\"\"\"\n",
    "with driver.session() as session:\n",
    "    result = session.run(query)\n",
    "    df = pd.DataFrame([dict(record) for record in result])\n",
    "    print(df)"
   ]
  },
  {
   "cell_type": "markdown",
   "id": "fc250cb1-1f95-4fbb-8f8a-a9ebe9db545a",
   "metadata": {},
   "source": [
    "# A spammer is a user who tweets a spam"
   ]
  },
  {
   "cell_type": "code",
   "execution_count": 17,
   "id": "a5591945-5a7d-46b8-bbf3-f6a3bda180ca",
   "metadata": {},
   "outputs": [
    {
     "name": "stdout",
     "output_type": "stream",
     "text": [
      "Set 57,218 properties\n",
      "Set 1,665 properties\n"
     ]
    }
   ],
   "source": [
    "setNonSpammer = \"\"\"\n",
    "MATCH (u:User)-[:TWEETS]->()\n",
    "SET u.is_spammer=0;\n",
    "\"\"\"\n",
    "setSpammer = \"\"\"\n",
    "MATCH (u:User)-[:TWEETS]->(:Spam)\n",
    "SET u.is_spammer=1;\n",
    "\"\"\"\n",
    "with driver.session() as session:\n",
    "    result = session.run(setNonSpammer)\n",
    "    print_result_summary(result.consume())\n",
    "    result = session.run(setSpammer)\n",
    "    print_result_summary(result.consume())"
   ]
  },
  {
   "cell_type": "code",
   "execution_count": 18,
   "id": "88346776-6210-4952-a8b5-d22b2b9f623b",
   "metadata": {},
   "outputs": [],
   "source": [
    "driver.close()"
   ]
  },
  {
   "cell_type": "code",
   "execution_count": null,
   "id": "88af6aa1-a6e9-477a-99a6-3278416e387b",
   "metadata": {},
   "outputs": [],
   "source": []
  }
 ],
 "metadata": {
  "kernelspec": {
   "display_name": "Python 3 (ipykernel)",
   "language": "python",
   "name": "python3"
  },
  "language_info": {
   "codemirror_mode": {
    "name": "ipython",
    "version": 3
   },
   "file_extension": ".py",
   "mimetype": "text/x-python",
   "name": "python",
   "nbconvert_exporter": "python",
   "pygments_lexer": "ipython3",
   "version": "3.9.12"
  }
 },
 "nbformat": 4,
 "nbformat_minor": 5
}
