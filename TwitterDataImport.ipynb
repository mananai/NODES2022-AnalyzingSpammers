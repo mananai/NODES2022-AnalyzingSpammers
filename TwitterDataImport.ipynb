{
 "cells": [
  {
   "cell_type": "code",
   "execution_count": 3,
   "id": "9a55c310-bf1f-4036-a68e-72a5769b0114",
   "metadata": {},
   "outputs": [],
   "source": [
    "from neo4j import GraphDatabase\n",
    "import pandas as pd\n",
    "from tabulate import tabulate\n",
    "import matplotlib\n",
    "#matplotlib.use('TkAgg')\n",
    "import matplotlib.pyplot as plt"
   ]
  },
  {
   "cell_type": "code",
   "execution_count": 4,
   "id": "a0fe4dbe-d66a-4974-8414-f4811e00c4b7",
   "metadata": {},
   "outputs": [],
   "source": [
    "user=\"neo4j\"\n",
    "password=\"neo4j123\""
   ]
  },
  {
   "cell_type": "code",
   "execution_count": 5,
   "id": "06a973d4-778c-47db-90e5-3e1021c4a8be",
   "metadata": {},
   "outputs": [],
   "source": [
    "driver = GraphDatabase.driver(\"bolt://localhost\", auth=(user, password))"
   ]
  },
  {
   "cell_type": "code",
   "execution_count": 6,
   "id": "d629d64a-59ad-47e7-8f38-ab4f65c744ba",
   "metadata": {},
   "outputs": [],
   "source": [
    "def print_result_summary(summary):\n",
    "    if summary.counters.nodes_created > 0 :\n",
    "        print(f\"Created {summary.counters.nodes_created:,d} nodes\")\n",
    "    if summary.counters.nodes_deleted > 0 :\n",
    "        print(f\"Deleted {summary.counters.nodes_deleted:,d} nodes\")\n",
    "    if summary.counters.relationships_created > 0 :\n",
    "        print(f\"Created {summary.counters.relationships_created:,d} relationships\")\n",
    "    if summary.counters.relationships_deleted > 0 :\n",
    "        print(f\"Deleted {summary.counters.relationships_deleted:,d} relationships\")\n",
    "    if summary.counters.properties_set > 0 :\n",
    "        print(f\"Set {summary.counters.properties_set:,d} properties\")\n",
    "    if summary.counters.labels_added > 0 :\n",
    "        print(f\"Added {summary.counters.labels_added:,d} labels\")\n",
    "    if summary.counters.labels_removed > 0 :\n",
    "        print(f\"Removed {summary.counters.labels_removed:,d} labels\")\n",
    "    if summary.counters.constraints_added > 0 :\n",
    "        print(f\"Added {summary.counters.constraints_added:,d} constraints\")\n",
    "    if summary.counters.constraints_removed > 0 :\n",
    "        print(f\"Removed {summary.counters.constraints_removed:,d} constraints\")\n"
   ]
  },
  {
   "cell_type": "markdown",
   "id": "1144242e-9845-4f48-b563-371f98a300ad",
   "metadata": {},
   "source": [
    "# Add constraints"
   ]
  },
  {
   "cell_type": "code",
   "execution_count": 7,
   "id": "2492ae4a-913c-4e22-b1dc-889c9e5f2474",
   "metadata": {},
   "outputs": [
    {
     "ename": "ClientError",
     "evalue": "An equivalent constraint already exists, 'Constraint( id=10, name='User_constraint', type='UNIQUENESS', schema=(:User {id}), ownedIndex=9 )'.",
     "output_type": "error",
     "traceback": [
      "\u001b[0;31m---------------------------------------------------------------------------\u001b[0m",
      "\u001b[0;31mClientError\u001b[0m                               Traceback (most recent call last)",
      "Input \u001b[0;32mIn [7]\u001b[0m, in \u001b[0;36m<cell line: 6>\u001b[0;34m()\u001b[0m\n\u001b[1;32m      6\u001b[0m \u001b[38;5;28;01mwith\u001b[39;00m driver\u001b[38;5;241m.\u001b[39msession() \u001b[38;5;28;01mas\u001b[39;00m session:\n\u001b[1;32m      7\u001b[0m     \u001b[38;5;28;01mfor\u001b[39;00m query \u001b[38;5;129;01min\u001b[39;00m queries:    \n\u001b[0;32m----> 8\u001b[0m         result \u001b[38;5;241m=\u001b[39m \u001b[43msession\u001b[49m\u001b[38;5;241;43m.\u001b[39;49m\u001b[43mrun\u001b[49m\u001b[43m(\u001b[49m\u001b[43mquery\u001b[49m\u001b[43m)\u001b[49m\n\u001b[1;32m      9\u001b[0m         summary \u001b[38;5;241m=\u001b[39m result\u001b[38;5;241m.\u001b[39mconsume()\n\u001b[1;32m     10\u001b[0m         print_result_summary(summary)\n",
      "File \u001b[0;32m~/opt/miniconda3/lib/python3.9/site-packages/neo4j/work/simple.py:215\u001b[0m, in \u001b[0;36mSession.run\u001b[0;34m(self, query, parameters, **kwparameters)\u001b[0m\n\u001b[1;32m    209\u001b[0m hydrant \u001b[38;5;241m=\u001b[39m DataHydrator(patch_utc\u001b[38;5;241m=\u001b[39m\u001b[38;5;124m\"\u001b[39m\u001b[38;5;124mutc\u001b[39m\u001b[38;5;124m\"\u001b[39m \u001b[38;5;129;01min\u001b[39;00m cx\u001b[38;5;241m.\u001b[39mbolt_patches)\n\u001b[1;32m    211\u001b[0m \u001b[38;5;28mself\u001b[39m\u001b[38;5;241m.\u001b[39m_autoResult \u001b[38;5;241m=\u001b[39m Result(\n\u001b[1;32m    212\u001b[0m     cx, hydrant, \u001b[38;5;28mself\u001b[39m\u001b[38;5;241m.\u001b[39m_config\u001b[38;5;241m.\u001b[39mfetch_size, \u001b[38;5;28mself\u001b[39m\u001b[38;5;241m.\u001b[39m_result_closed,\n\u001b[1;32m    213\u001b[0m     \u001b[38;5;28mself\u001b[39m\u001b[38;5;241m.\u001b[39m_result_error\n\u001b[1;32m    214\u001b[0m )\n\u001b[0;32m--> 215\u001b[0m \u001b[38;5;28;43mself\u001b[39;49m\u001b[38;5;241;43m.\u001b[39;49m\u001b[43m_autoResult\u001b[49m\u001b[38;5;241;43m.\u001b[39;49m\u001b[43m_run\u001b[49m\u001b[43m(\u001b[49m\n\u001b[1;32m    216\u001b[0m \u001b[43m    \u001b[49m\u001b[43mquery\u001b[49m\u001b[43m,\u001b[49m\u001b[43m \u001b[49m\u001b[43mparameters\u001b[49m\u001b[43m,\u001b[49m\u001b[43m \u001b[49m\u001b[38;5;28;43mself\u001b[39;49m\u001b[38;5;241;43m.\u001b[39;49m\u001b[43m_config\u001b[49m\u001b[38;5;241;43m.\u001b[39;49m\u001b[43mdatabase\u001b[49m\u001b[43m,\u001b[49m\n\u001b[1;32m    217\u001b[0m \u001b[43m    \u001b[49m\u001b[38;5;28;43mself\u001b[39;49m\u001b[38;5;241;43m.\u001b[39;49m\u001b[43m_config\u001b[49m\u001b[38;5;241;43m.\u001b[39;49m\u001b[43mimpersonated_user\u001b[49m\u001b[43m,\u001b[49m\u001b[43m \u001b[49m\u001b[38;5;28;43mself\u001b[39;49m\u001b[38;5;241;43m.\u001b[39;49m\u001b[43m_config\u001b[49m\u001b[38;5;241;43m.\u001b[39;49m\u001b[43mdefault_access_mode\u001b[49m\u001b[43m,\u001b[49m\n\u001b[1;32m    218\u001b[0m \u001b[43m    \u001b[49m\u001b[38;5;28;43mself\u001b[39;49m\u001b[38;5;241;43m.\u001b[39;49m\u001b[43m_bookmarks\u001b[49m\u001b[43m,\u001b[49m\u001b[43m \u001b[49m\u001b[38;5;241;43m*\u001b[39;49m\u001b[38;5;241;43m*\u001b[39;49m\u001b[43mkwparameters\u001b[49m\n\u001b[1;32m    219\u001b[0m \u001b[43m\u001b[49m\u001b[43m)\u001b[49m\n\u001b[1;32m    221\u001b[0m \u001b[38;5;28;01mreturn\u001b[39;00m \u001b[38;5;28mself\u001b[39m\u001b[38;5;241m.\u001b[39m_autoResult\n",
      "File \u001b[0;32m~/opt/miniconda3/lib/python3.9/site-packages/neo4j/work/result.py:117\u001b[0m, in \u001b[0;36mResult._run\u001b[0;34m(self, query, parameters, db, imp_user, access_mode, bookmarks, **kwparameters)\u001b[0m\n\u001b[1;32m    115\u001b[0m \u001b[38;5;28mself\u001b[39m\u001b[38;5;241m.\u001b[39m_pull()\n\u001b[1;32m    116\u001b[0m \u001b[38;5;28mself\u001b[39m\u001b[38;5;241m.\u001b[39m_connection\u001b[38;5;241m.\u001b[39msend_all()\n\u001b[0;32m--> 117\u001b[0m \u001b[38;5;28;43mself\u001b[39;49m\u001b[38;5;241;43m.\u001b[39;49m\u001b[43m_attach\u001b[49m\u001b[43m(\u001b[49m\u001b[43m)\u001b[49m\n",
      "File \u001b[0;32m~/opt/miniconda3/lib/python3.9/site-packages/neo4j/work/result.py:206\u001b[0m, in \u001b[0;36mResult._attach\u001b[0;34m(self)\u001b[0m\n\u001b[1;32m    204\u001b[0m \u001b[38;5;28;01mif\u001b[39;00m \u001b[38;5;28mself\u001b[39m\u001b[38;5;241m.\u001b[39m_closed \u001b[38;5;129;01mis\u001b[39;00m \u001b[38;5;28;01mFalse\u001b[39;00m:\n\u001b[1;32m    205\u001b[0m     \u001b[38;5;28;01mwhile\u001b[39;00m \u001b[38;5;28mself\u001b[39m\u001b[38;5;241m.\u001b[39m_attached \u001b[38;5;129;01mis\u001b[39;00m \u001b[38;5;28;01mFalse\u001b[39;00m:\n\u001b[0;32m--> 206\u001b[0m         \u001b[38;5;28;43mself\u001b[39;49m\u001b[38;5;241;43m.\u001b[39;49m\u001b[43m_connection\u001b[49m\u001b[38;5;241;43m.\u001b[39;49m\u001b[43mfetch_message\u001b[49m\u001b[43m(\u001b[49m\u001b[43m)\u001b[49m\n",
      "File \u001b[0;32m~/opt/miniconda3/lib/python3.9/site-packages/neo4j/io/_common.py:188\u001b[0m, in \u001b[0;36mConnectionErrorHandler.__getattr__.<locals>.outer.<locals>.inner\u001b[0;34m(*args, **kwargs)\u001b[0m\n\u001b[1;32m    186\u001b[0m \u001b[38;5;28;01mdef\u001b[39;00m \u001b[38;5;21minner\u001b[39m(\u001b[38;5;241m*\u001b[39margs, \u001b[38;5;241m*\u001b[39m\u001b[38;5;241m*\u001b[39mkwargs):\n\u001b[1;32m    187\u001b[0m     \u001b[38;5;28;01mtry\u001b[39;00m:\n\u001b[0;32m--> 188\u001b[0m         \u001b[43mfunc\u001b[49m\u001b[43m(\u001b[49m\u001b[38;5;241;43m*\u001b[39;49m\u001b[43margs\u001b[49m\u001b[43m,\u001b[49m\u001b[43m \u001b[49m\u001b[38;5;241;43m*\u001b[39;49m\u001b[38;5;241;43m*\u001b[39;49m\u001b[43mkwargs\u001b[49m\u001b[43m)\u001b[49m\n\u001b[1;32m    189\u001b[0m     \u001b[38;5;28;01mexcept\u001b[39;00m (Neo4jError, ServiceUnavailable, SessionExpired) \u001b[38;5;28;01mas\u001b[39;00m exc:\n\u001b[1;32m    190\u001b[0m         \u001b[38;5;28mself\u001b[39m\u001b[38;5;241m.\u001b[39m__on_error(exc)\n",
      "File \u001b[0;32m~/opt/miniconda3/lib/python3.9/site-packages/neo4j/io/_bolt4.py:306\u001b[0m, in \u001b[0;36mBolt4x0.fetch_message\u001b[0;34m(self)\u001b[0m\n\u001b[1;32m    304\u001b[0m \u001b[38;5;28mself\u001b[39m\u001b[38;5;241m.\u001b[39m_server_state_manager\u001b[38;5;241m.\u001b[39mstate \u001b[38;5;241m=\u001b[39m ServerStates\u001b[38;5;241m.\u001b[39mFAILED\n\u001b[1;32m    305\u001b[0m \u001b[38;5;28;01mtry\u001b[39;00m:\n\u001b[0;32m--> 306\u001b[0m     \u001b[43mresponse\u001b[49m\u001b[38;5;241;43m.\u001b[39;49m\u001b[43mon_failure\u001b[49m\u001b[43m(\u001b[49m\u001b[43msummary_metadata\u001b[49m\u001b[43m \u001b[49m\u001b[38;5;129;43;01mor\u001b[39;49;00m\u001b[43m \u001b[49m\u001b[43m{\u001b[49m\u001b[43m}\u001b[49m\u001b[43m)\u001b[49m\n\u001b[1;32m    307\u001b[0m \u001b[38;5;28;01mexcept\u001b[39;00m (ServiceUnavailable, DatabaseUnavailable):\n\u001b[1;32m    308\u001b[0m     \u001b[38;5;28;01mif\u001b[39;00m \u001b[38;5;28mself\u001b[39m\u001b[38;5;241m.\u001b[39mpool:\n",
      "File \u001b[0;32m~/opt/miniconda3/lib/python3.9/site-packages/neo4j/io/_common.py:246\u001b[0m, in \u001b[0;36mResponse.on_failure\u001b[0;34m(self, metadata)\u001b[0m\n\u001b[1;32m    244\u001b[0m \u001b[38;5;28;01mif\u001b[39;00m callable(handler):\n\u001b[1;32m    245\u001b[0m     handler()\n\u001b[0;32m--> 246\u001b[0m \u001b[38;5;28;01mraise\u001b[39;00m Neo4jError\u001b[38;5;241m.\u001b[39mhydrate(\u001b[38;5;241m*\u001b[39m\u001b[38;5;241m*\u001b[39mmetadata)\n",
      "\u001b[0;31mClientError\u001b[0m: An equivalent constraint already exists, 'Constraint( id=10, name='User_constraint', type='UNIQUENESS', schema=(:User {id}), ownedIndex=9 )'."
     ]
    }
   ],
   "source": [
    "addConstraintsQ1 = \"CREATE CONSTRAINT User_constraint FOR (user:User) REQUIRE user.id IS UNIQUE;\"\n",
    "addConstraintsQ2 = \"CREATE CONSTRAINT Status_constraint FOR (status:Status) REQUIRE status.id IS UNIQUE;\"\n",
    "\n",
    "queries = [addConstraintsQ1, addConstraintsQ2]\n",
    "\n",
    "with driver.session() as session:\n",
    "    for query in queries:    \n",
    "        result = session.run(query)\n",
    "        summary = result.consume()\n",
    "        print_result_summary(summary)"
   ]
  },
  {
   "cell_type": "markdown",
   "id": "e17c3f89-07d7-4d24-8f53-afacb71072b8",
   "metadata": {},
   "source": [
    "# List constraints"
   ]
  },
  {
   "cell_type": "code",
   "execution_count": 8,
   "id": "aed45a68-d7c6-43fc-b3d9-ca41a83e4d06",
   "metadata": {},
   "outputs": [
    {
     "name": "stdout",
     "output_type": "stream",
     "text": [
      "                name                                        description  \\\n",
      "0  Status_constraint  CONSTRAINT ON ( status:Status ) ASSERT (status...   \n",
      "1    User_constraint  CONSTRAINT ON ( user:User ) ASSERT (user.id) I...   \n",
      "\n",
      "                                             details  \n",
      "0  Constraint( id=8, name='Status_constraint', ty...  \n",
      "1  Constraint( id=10, name='User_constraint', typ...  \n"
     ]
    }
   ],
   "source": [
    "query = \"CALL db.constraints;\"\n",
    "with driver.session() as session:\n",
    "    result = session.run(query)\n",
    "    df = pd.DataFrame([dict(record) for record in result])\n",
    "    print(df)"
   ]
  },
  {
   "cell_type": "markdown",
   "id": "dc0ef2e1-b34a-4d5e-81cd-cc7ce22fafae",
   "metadata": {},
   "source": [
    "# Import user nodes"
   ]
  },
  {
   "cell_type": "code",
   "execution_count": 8,
   "id": "b2db8c14-434d-4104-93d2-bff8410b0dda",
   "metadata": {},
   "outputs": [
    {
     "name": "stdout",
     "output_type": "stream",
     "text": [
      "Created 1,511,659 nodes\n",
      "Set 12,093,272 properties\n",
      "Added 1,511,659 labels\n"
     ]
    }
   ],
   "source": [
    "importUserQ = \"\"\"\n",
    "USING PERIODIC COMMIT LOAD CSV WITH HEADERS FROM \"file:///users20221027.csv\" AS row\n",
    "MERGE (u:User {id:toInteger(row.id)})\n",
    "SET u.screen_name = row.screen_name,\n",
    "u.name = row.name,\n",
    "u.friends_count = toInteger(row.friends_count),\n",
    "u.followers_count = toInteger(row.followers_count),\n",
    "u.statuses_count = toInteger(row.statuses_count),\n",
    "u.favorites_count = toInteger(row.favorites_count),\n",
    "u.description = row.description;\n",
    "\"\"\"\n",
    "with driver.session() as session:\n",
    "    result = session.run(importUserQ)\n",
    "    summary = result.consume()\n",
    "    print_result_summary(summary)"
   ]
  },
  {
   "cell_type": "code",
   "execution_count": 9,
   "id": "76920ad8-24cc-4294-bfce-ce9ecb5146d9",
   "metadata": {},
   "outputs": [
    {
     "name": "stdout",
     "output_type": "stream",
     "text": [
      "   User_count\n",
      "0     1511659\n"
     ]
    }
   ],
   "source": [
    "query = \"\"\"\n",
    "MATCH (u:User) \n",
    "RETURN COUNT(u) AS User_count;\n",
    "\"\"\"\n",
    "with driver.session() as session:\n",
    "    result = session.run(query)\n",
    "    df = pd.DataFrame([dict(record) for record in result])\n",
    "    print(df)"
   ]
  },
  {
   "cell_type": "markdown",
   "id": "d389c315-9c43-4048-b7a7-4c9daf880115",
   "metadata": {},
   "source": [
    "# Import user_friend relationships\n",
    "This may take a long long time to run (depending on relationship count)"
   ]
  },
  {
   "cell_type": "code",
   "execution_count": 10,
   "id": "b1d4ab67-95dc-4003-b9ed-95042546d952",
   "metadata": {},
   "outputs": [
    {
     "name": "stdout",
     "output_type": "stream",
     "text": [
      "Created 9,639,768 relationships\n"
     ]
    }
   ],
   "source": [
    "importUserFriendQ = \"\"\"\n",
    "USING PERIODIC COMMIT LOAD CSV WITH HEADERS FROM 'file:///userFriends20221027.csv' as row\n",
    "MATCH (user:User{id: toInteger(row.user_id)})\n",
    "MATCH (friend:User{id: toInteger(row.friend_id)})\n",
    "MERGE (user)-[:FOLLOWS]->(friend);\n",
    "\"\"\"\n",
    "with driver.session() as session:\n",
    "    result = session.run(importUserFriendQ)\n",
    "    summary = result.consume()\n",
    "    print_result_summary(summary)"
   ]
  },
  {
   "cell_type": "markdown",
   "id": "ff54c992-2ff3-43b3-8507-7da6bc4cce06",
   "metadata": {},
   "source": [
    "# Import status nodes"
   ]
  },
  {
   "cell_type": "code",
   "execution_count": 11,
   "id": "76bd8d37-840a-4376-beca-dc0c74663738",
   "metadata": {},
   "outputs": [
    {
     "name": "stdout",
     "output_type": "stream",
     "text": [
      "Created 57,695 nodes\n",
      "Set 634,645 properties\n",
      "Added 57,695 labels\n"
     ]
    }
   ],
   "source": [
    "importStatusQ = \"\"\"\n",
    "USING PERIODIC COMMIT LOAD CSV WITH HEADERS FROM \"file:///statuses20221027_labeled.csv\" AS row\n",
    "MERGE (s:Status {id:toInteger(row.id)})\n",
    "SET s.user_id = toInteger(row.user_id),\n",
    "s.is_retweet = toInteger(row.is_retweet),\n",
    "s.retweeted_id = toInteger(row.retweeted_id),\n",
    "s.is_retweeted = toInteger(row.is_retweeted),\n",
    "s.retweet_count = toInteger(row.retweet_count),\n",
    "s.favourite_count = toInteger(row.favourite_count),\n",
    "s.quoted_id = toInteger(row.quoted_id),\n",
    "s.hashtag_count = toInteger(row.hashtag_count),\n",
    "s.text = row.text,\n",
    "s.is_spam = toInteger(row.label);\n",
    "\"\"\"\n",
    "with driver.session() as session:\n",
    "    result = session.run(importStatusQ)\n",
    "    summary = result.consume()\n",
    "    print_result_summary(summary)"
   ]
  },
  {
   "cell_type": "code",
   "execution_count": 12,
   "id": "daa94469-3ac7-4726-b137-18f9adb52c0f",
   "metadata": {},
   "outputs": [
    {
     "name": "stdout",
     "output_type": "stream",
     "text": [
      "   Status_count\n",
      "0         57695\n"
     ]
    }
   ],
   "source": [
    "query = \"\"\"\n",
    "MATCH (s:Status) \n",
    "RETURN COUNT(s) AS Status_count;\n",
    "\"\"\"\n",
    "with driver.session() as session:\n",
    "    result = session.run(query)\n",
    "    df = pd.DataFrame([dict(record) for record in result])\n",
    "    print(df)"
   ]
  },
  {
   "cell_type": "markdown",
   "id": "b658586d-3f97-45a3-99e6-c2897abdefb1",
   "metadata": {},
   "source": [
    "# Add RT relationships"
   ]
  },
  {
   "cell_type": "code",
   "execution_count": 13,
   "id": "5a12d740-2f77-49a7-92e5-49914586bb73",
   "metadata": {},
   "outputs": [
    {
     "name": "stdout",
     "output_type": "stream",
     "text": [
      "Created 49,246 relationships\n"
     ]
    }
   ],
   "source": [
    "query = \"\"\"\n",
    "MATCH (rt:Status)\n",
    "WHERE rt.is_retweet = 1\n",
    "MATCH (t:Status)\n",
    "WHERE t.is_retweet = 0 AND rt.retweeted_id=t.id\n",
    "MERGE (rt)-[:RT]->(t);\n",
    "\"\"\"\n",
    "with driver.session() as session:\n",
    "    result = session.run(query)\n",
    "    summary = result.consume()\n",
    "    print_result_summary(summary)"
   ]
  },
  {
   "cell_type": "markdown",
   "id": "a26d2d43-1d11-4c0c-822d-be882401bc84",
   "metadata": {},
   "source": [
    "# Add TWEETS relationships"
   ]
  },
  {
   "cell_type": "code",
   "execution_count": 14,
   "id": "f6f0a533-fd33-425e-af6b-8541783d86dc",
   "metadata": {},
   "outputs": [
    {
     "name": "stdout",
     "output_type": "stream",
     "text": [
      "Created 57,218 relationships\n"
     ]
    }
   ],
   "source": [
    "query = \"\"\"\n",
    "MATCH (t:Status)\n",
    "MATCH (u:User)\n",
    "WHERE t.user_id = u.id\n",
    "MERGE (u)-[:TWEETS]->(t);\n",
    "\"\"\"\n",
    "with driver.session() as session:\n",
    "    result = session.run(query)\n",
    "    summary = result.consume()\n",
    "    print_result_summary(summary)"
   ]
  },
  {
   "cell_type": "markdown",
   "id": "f38e9f86-3b7d-4e95-9c0f-ef512eb93502",
   "metadata": {},
   "source": [
    "# Spam label of a tweet"
   ]
  },
  {
   "cell_type": "code",
   "execution_count": 9,
   "id": "af79b6f8-7790-4645-ac55-702353677e80",
   "metadata": {},
   "outputs": [
    {
     "name": "stdout",
     "output_type": "stream",
     "text": [
      "Added 248 labels\n"
     ]
    }
   ],
   "source": [
    "query = \"\"\"\n",
    "MATCH (s:Status)\n",
    "WHERE s.is_spam=1\n",
    "SET s:Spam\n",
    "\"\"\"\n",
    "with driver.session() as session:\n",
    "    result = session.run(query)\n",
    "    summary = result.consume()\n",
    "    print_result_summary(summary)"
   ]
  },
  {
   "cell_type": "markdown",
   "id": "cbaafa4e-9966-4b45-957e-73db8b2cb14b",
   "metadata": {},
   "source": [
    "# Retweet of a spam is also a spam"
   ]
  },
  {
   "cell_type": "code",
   "execution_count": 10,
   "id": "89b7f2db-127a-44af-9600-d593482c79a2",
   "metadata": {},
   "outputs": [
    {
     "name": "stdout",
     "output_type": "stream",
     "text": [
      "Added 1,419 labels\n"
     ]
    }
   ],
   "source": [
    "query = \"\"\"\n",
    "MATCH (s:Status)-[:RT]->(:Spam)\n",
    "SET s:Spam\n",
    "\"\"\"\n",
    "with driver.session() as session:\n",
    "    result = session.run(query)\n",
    "    summary = result.consume()\n",
    "    print_result_summary(summary)"
   ]
  },
  {
   "cell_type": "code",
   "execution_count": 11,
   "id": "912c1a1b-a37d-4893-a42a-8442a84d17d5",
   "metadata": {},
   "outputs": [
    {
     "name": "stdout",
     "output_type": "stream",
     "text": [
      "   Spam_count\n",
      "0        1667\n"
     ]
    }
   ],
   "source": [
    "query = \"\"\"\n",
    "MATCH (s:Spam)\n",
    "RETURN COUNT(s) AS Spam_count\n",
    "\"\"\"\n",
    "with driver.session() as session:\n",
    "    result = session.run(query)\n",
    "    df = pd.DataFrame([dict(record) for record in result])\n",
    "    print(df)"
   ]
  },
  {
   "cell_type": "markdown",
   "id": "fc250cb1-1f95-4fbb-8f8a-a9ebe9db545a",
   "metadata": {},
   "source": [
    "# A spammer is a user who tweets a spam"
   ]
  },
  {
   "cell_type": "code",
   "execution_count": 12,
   "id": "a5591945-5a7d-46b8-bbf3-f6a3bda180ca",
   "metadata": {},
   "outputs": [
    {
     "name": "stdout",
     "output_type": "stream",
     "text": [
      "Set 57,218 properties\n",
      "Set 1,665 properties\n"
     ]
    }
   ],
   "source": [
    "setNonSpammer = \"\"\"\n",
    "MATCH (u:User)-[:TWEETS]->()\n",
    "SET u.is_spammer=0;\n",
    "\"\"\"\n",
    "setSpammer = \"\"\"\n",
    "MATCH (u:User)-[:TWEETS]->(:Spam)\n",
    "SET u.is_spammer=1;\n",
    "\"\"\"\n",
    "with driver.session() as session:\n",
    "    result = session.run(setNonSpammer)\n",
    "    print_result_summary(result.consume())\n",
    "    result = session.run(setSpammer)\n",
    "    print_result_summary(result.consume())"
   ]
  },
  {
   "cell_type": "code",
   "execution_count": 13,
   "id": "88346776-6210-4952-a8b5-d22b2b9f623b",
   "metadata": {},
   "outputs": [],
   "source": [
    "driver.close()"
   ]
  },
  {
   "cell_type": "code",
   "execution_count": null,
   "id": "88af6aa1-a6e9-477a-99a6-3278416e387b",
   "metadata": {},
   "outputs": [],
   "source": []
  }
 ],
 "metadata": {
  "kernelspec": {
   "display_name": "Python 3 (ipykernel)",
   "language": "python",
   "name": "python3"
  },
  "language_info": {
   "codemirror_mode": {
    "name": "ipython",
    "version": 3
   },
   "file_extension": ".py",
   "mimetype": "text/x-python",
   "name": "python",
   "nbconvert_exporter": "python",
   "pygments_lexer": "ipython3",
   "version": "3.9.12"
  }
 },
 "nbformat": 4,
 "nbformat_minor": 5
}
